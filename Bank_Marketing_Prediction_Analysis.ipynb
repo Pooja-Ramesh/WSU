{
  "nbformat": 4,
  "nbformat_minor": 0,
  "metadata": {
    "colab": {
      "name": "Bank Marketing Prediction Analysis.ipynb",
      "private_outputs": true,
      "provenance": [],
      "collapsed_sections": [
        "Jwl5f3CZsR6F"
      ],
      "authorship_tag": "ABX9TyM27JNtOutt5RmWFeR5v/J2",
      "include_colab_link": true
    },
    "kernelspec": {
      "name": "python3",
      "display_name": "Python 3"
    },
    "language_info": {
      "name": "python"
    }
  },
  "cells": [
    {
      "cell_type": "markdown",
      "metadata": {
        "id": "view-in-github",
        "colab_type": "text"
      },
      "source": [
        "<a href=\"https://colab.research.google.com/github/Pooja-Ramesh/WSU/blob/master/Bank_Marketing_Prediction_Analysis.ipynb\" target=\"_parent\"><img src=\"https://colab.research.google.com/assets/colab-badge.svg\" alt=\"Open In Colab\"/></a>"
      ]
    },
    {
      "cell_type": "markdown",
      "metadata": {
        "id": "Jwl5f3CZsR6F"
      },
      "source": [
        "# **European Banking Institute | Case Study** \n",
        "Pooja Ramesh\n",
        "---\n",
        "\n",
        "\n",
        "---\n",
        "\n",
        "\n",
        "**Introduction:**\n",
        "\n",
        "A European banking institute conducted a marketing campaign for 18 months between 2008 & 2010. The direct markteing was rendered through phone calls. The financial instrument offered during the marketing was term deposit. The bank has adopted advance analytics, Predictive Machine Learning, to learn about the customers who are receptive to subscribing to marketing campaign\n",
        "\n",
        "\n",
        "> *What is Direct Marketing?* \\\n",
        "Selected customers are contacted directly through a communication mode (personal contact, telephone cellular, mail, and email) to advertise the new product/service or give an offer on the existing suite of products.\n",
        "\n",
        "\n",
        "\n",
        "> *What is Term Deposit?*\\\n",
        "Term Deposits, popularly known as Fixed Deposit, is an investment instrument in which a lump-sum sum amount is deposited at an agreed rate of interest for a fixed period of time, ranging from 1 month to 5 years.\n",
        "\n",
        "\n",
        "\n",
        "> *Data Composition*\\\n",
        "The data shared by the bank comprises pf ~ 41,000 customer records with 22 features. Features are Associated with the below categories:\n",
        "1.   Customer Demographics\n",
        "2.   Campaign - Recent & Historic information\n",
        "3.   Customer Credit/Debt history\n",
        "4.   Economic Indicators\n",
        "5.   Bank Employee Information\n",
        "6.   Current Model Prediction - probability that customer will subscribe\n",
        "\n",
        "\n",
        "\n",
        "> Case Study Objective:\n",
        "1.   Evaluate performance of the current predictive model\n",
        "     - Is the model accurately identifying customers who subscribed to the campaign?\n",
        "     - Is the model identifying customers as 'will subscribe' when they have'nt?\n",
        "2.   Exploratory Data Analysis - *Completed in Power BI*\n",
        "3.   Opportunites for Future Modelling\n",
        "\n",
        "\n",
        "\n",
        "> Assumptions Applied:\n",
        "1.   The data gathered is representative of teh reality\n",
        "2. Only one type of term deposit is offered in a marketing campaign to all customers.\n",
        "3.   The historic campaign data relates to the same product type\n",
        "4.   The predictions availabe are values from the test dataset. The bank has trained the data on another set and is not shared for performance analysis.\n",
        "5.   All data made avaialble (all rows & columns; except for dependant variable 'y' & 'probability predictions') were used by the bank for testing purpose.\n",
        "6. 'Unknown' values in the data table exist and its not missing at random; Assumption - Customers may be reluctant to share personal information during marketing campaigns.\n",
        "7. Discrepancy identified between PDAYS, POUTCOME, PREVIOUS relating to historic campaigns; Assumption - Data was sourced from various sources and the data in column 'PDAYS' is correct. Override was applied whereever necessary.\n",
        "\n",
        "\n",
        "\n",
        "\n",
        "\n"
      ]
    },
    {
      "cell_type": "markdown",
      "metadata": {
        "id": "NOHDnm3Bt1EN"
      },
      "source": [
        "#Objective 1: Evaluate Performance\n",
        "\n",
        "A machine learning classification model can be used to predict the actual class of the data point directly or predict its probability of belonging to different classes. The latter gives us more control over the result. We can determine our own threshold to interpret the result of the classifier. This is sometimes more prudent than just building a completely new model.\\\n",
        "The predictions in the bank dataset are represented as probability of the instance to be positive (customer will subscribe to term deposit in the marketing campaign). \n",
        "\n",
        "In case we were to promote the current machine learning model for future campaign decisions, hypothetically, a stakeholder requirement could fall into the below two options: \n",
        "\n",
        "1.   From a marketing manager perspective, is the model correctly identifying customers who have subscribed to term deposits? The manager is interested in higher True Positive Rate as a performance metric since they want to gain higher conversion rate on these marketing activities.\n",
        "2.   From an operations manager perspective, is the model incorrectly identifying customers to have subscribed to term deposits, when they have'nt? The manager is interested in keeping low False Positive Rate as a performance metric since they want to optimally utilize the staff for marketing activities.\n",
        "\n",
        "As we dont have these stakeholders available to advise on specificity of the threshold for business purpose; we will use a metric called AUC (Area Under The Curve) ROC (Receiver Operating Characteristics) curve that evaluates the model's performance at varied thresholds.\n",
        "\n",
        "> What is the AUC - ROC Curve?\n",
        "AUC - ROC curve is a performance measurement for the classification problems at various threshold settings. ROC is a probability curve and AUC represents the degree or measure of separability. It tells how much the model is capable of distinguishing between classes. Higher the AUC, the better the model is at predicting 0 classes as 0 and 1 classes as 1.By analogy, the Higher the AUC, the better the model is at distinguishing between customers who will subscribe vs. not. \n",
        "How is this calculated? ROC curve plots TPR against FPR at various threshold values.\n",
        "1.   True Positive Rate (TPR) -  proportion of the customers who subscribed got correctly classified.\n",
        "2.   False Positive Rate (FPR) - proportion of the customer who didnt subscribe but got incorrectly classified.\\\n",
        "\\\n",
        "How do we read AUC?\n",
        "- When AUC = 1, then the classifier is able to perfectly distinguish between all the Positive and the Negative class points correctly.\n",
        "- When 0.5<AUC<1, there is a high chance that the classifier will be able to distinguish the positive class values from the negative class values.\n",
        "- AUC=0.5, then the classifier is not able to distinguish between Positive and Negative class points.\n",
        "\n",
        "\n",
        "\n"
      ]
    },
    {
      "cell_type": "markdown",
      "metadata": {
        "id": "f15cIbK504Xx"
      },
      "source": [
        "**Import necessary libraries and load the file needed for our Analysis**\n",
        "\n",
        "Pandas, Numpy, Seaborn and Matplotlib has been imported to read/explore the dataset. \\\n",
        "Sklearn has been imported to complete model performance analysis"
      ]
    },
    {
      "cell_type": "code",
      "metadata": {
        "id": "CTo1_y_CpI4J"
      },
      "source": [
        "import numpy as np\n",
        "import pandas as pd\n",
        "import matplotlib.pyplot as plt\n",
        "import seaborn as sns\n",
        "%matplotlib inline\n",
        "import warnings\n",
        "warnings.filterwarnings('ignore')\n",
        "from sklearn import metrics  #Machine Learning Library\n",
        "from sklearn.metrics import roc_curve"
      ],
      "execution_count": null,
      "outputs": []
    },
    {
      "cell_type": "markdown",
      "metadata": {
        "id": "0Wp4Fsel0_0I"
      },
      "source": [
        "Read bank data onto a dataset and started to perform priliminary Data Wrangling:\n",
        "\n",
        "- Replaced null string with _ to read and access column names easily\n",
        "- Renamed columns in lowercase to run analysis easily"
      ]
    },
    {
      "cell_type": "code",
      "metadata": {
        "id": "KDW7hQENpohU"
      },
      "source": [
        "# Read the data from CSV File onto a Pandas Dataframe.\n",
        "bank = pd.read_csv('/DSA Data Set.csv', sep=',')\n",
        "\n",
        "# Rename columns to lowercase and replace space with '_'  \n",
        "bank.columns = bank.columns.str.replace(' ','_')\n",
        "bank.columns = map(str.lower, bank.columns)\n",
        "\n",
        "#Preview of the first 5 rows of the data\n",
        "bank.head()"
      ],
      "execution_count": null,
      "outputs": []
    },
    {
      "cell_type": "code",
      "metadata": {
        "id": "F0EeE3Lfsmhl"
      },
      "source": [
        "#Replace 'y' &'n' actual customer responses (representing subscribed or refused respectively) to 0 & 1\n",
        "bank['y'].replace(['no', 'yes'], [0,1], inplace = True) "
      ],
      "execution_count": null,
      "outputs": []
    },
    {
      "cell_type": "code",
      "metadata": {
        "id": "97mFpERjnFVH"
      },
      "source": [
        "#Count of rows per each response category:\n",
        "bank['y'].value_counts()\n",
        "#Data is highly imbalanced; Which is representative of the real-world scenario. The subscribed ratio to refused is 1:8"
      ],
      "execution_count": null,
      "outputs": []
    },
    {
      "cell_type": "code",
      "metadata": {
        "id": "dHkHWSjBqSSv"
      },
      "source": [
        "#Save the actual customer responses & predicted probabilities separately for analysis\n",
        "y_bank = bank['y']\n",
        "pred_bank = bank['modelprediction']"
      ],
      "execution_count": null,
      "outputs": []
    },
    {
      "cell_type": "code",
      "metadata": {
        "id": "1ISTFmx7sVBd"
      },
      "source": [
        "#Calculate the ROC Curve to understand which threshold yields better results\n",
        "fpr, tpr, threshold = metrics.roc_curve(y_bank, pred_bank)\n",
        "roc_auc = metrics.auc(fpr, tpr)"
      ],
      "execution_count": null,
      "outputs": []
    },
    {
      "cell_type": "code",
      "metadata": {
        "id": "L-h3ylqmswnR"
      },
      "source": [
        "fig, (ax) = plt.subplots(nrows = 1, ncols = 1, figsize = (15,8))\n",
        "ax.plot(fpr, tpr, 'b', label='ROC curve (area = %.2f)' %roc_auc)\n",
        "ax.plot([0, 1], [0, 1], linestyle='--', lw=2, color='r', label='Random guess')\n",
        "ax.set_title('Receiver Operating Characteristic - Bank Model Evaluation ',fontsize=20)\n",
        "ax.set_ylabel('True Positive Rate',fontsize=12)\n",
        "ax.set_xlabel('False Positive Rate',fontsize=12)\n",
        "ax.legend(loc = 'lower right', prop={'size': 15})"
      ],
      "execution_count": null,
      "outputs": []
    },
    {
      "cell_type": "markdown",
      "metadata": {
        "id": "2M1UwyH7-i-O"
      },
      "source": [
        "Interpretation: The model performance is poorer than the random guess of 0.5\n",
        "\n",
        "Next Steps:\n",
        "- Check wrong predictions in testing data, and find which “feature” makes your model predicts correct in training data but wrong in testing data.\n",
        "- Check if train AUC > 0.5\n",
        "- Understand if the model used for training was sensitive to highly imbalanced data.\n",
        "- Understand if the training data was baised to the negative class\n"
      ]
    },
    {
      "cell_type": "markdown",
      "metadata": {
        "id": "nFWn18ww4VpX"
      },
      "source": [
        "#Objective 2: Opportunites for Future Modelling\n",
        "**Data Cleaning**\n",
        "- **Missing Data Check** - Completed in Power BI, None Identified \n",
        "\n",
        "- **Duplicate Check** - Completed in Power BI, None Identified\n",
        "\n",
        "- **Data Validation** Completed in Power BI\n",
        "1. pdays <> previous\n",
        "2. pdays <> poutcome\n",
        "\n",
        "- **Data Visualizations** Completed in Power BI\n",
        "\n",
        "**Data Pre-Processing - Features to drop:**\n",
        "1. Current Campaign: The case study objective is to analyse the customer who will be receptive to marketing campaign in **advance**.  All columns associated with current campaign will be removed for this purpose. Columns include: contact, month, day_of_week, duration, campaign\n",
        "2. Past campaign: Feature engineering has been performed on column 'pdays' to calculate a binary column representing whether the customer was contacted in historic campaigns or not. From the EDA in power BI, we have also learnt that if the customer has been contacted more than 1, there are fewer customers who have subscribed. This needs to be addressed as part of the customer segment that the marketing campaign will focus on. Original column pdays & previous will be removed from the analysis. Since, we are interested in the binary contact information & its repective response. \n",
        "3. Bank Employee Data: Assumption1 - Column 'nr:employed' indicates the count of all employees the bank had in any given quarter. Assumption2 - Not all customers of the bank are part of the marketing activity. Hence this column will be removed.\n",
        "\n",
        "**Future Modelling**\n",
        "Handling Imbalance dataset: \n",
        "We understand that the data gathered is representative of the reality and it is highly imbalanced. How do we handle this?\n",
        "1. Undersampling: Consists in sampling from the majority class in order to keep only a part of these points.\n",
        "2. Oversampling:  Consists in replicating some points from the minority class in order to increase its cardinality.\n"
      ]
    },
    {
      "cell_type": "code",
      "metadata": {
        "id": "bdS6z9ipqH6a"
      },
      "source": [
        "#A quick check on the number of missing data in each column:\n",
        "bank.isnull().any()\n",
        "missing_values_count = bank.isnull().sum()\n",
        "print(missing_values_count[0:8])\n",
        "total_cells = np.product(bank.shape)\n",
        "total_missing = missing_values_count.sum()\n",
        "print('percentage of data missing -',(total_missing/total_cells) * 100)"
      ],
      "execution_count": null,
      "outputs": []
    },
    {
      "cell_type": "code",
      "metadata": {
        "id": "1wZiWCPerqgt"
      },
      "source": [
        "bank.shape"
      ],
      "execution_count": null,
      "outputs": []
    },
    {
      "cell_type": "code",
      "metadata": {
        "id": "HplVq-UeK_3W"
      },
      "source": [
        "bank.columns"
      ],
      "execution_count": null,
      "outputs": []
    },
    {
      "cell_type": "code",
      "metadata": {
        "id": "D4ub5ry2Lh2X"
      },
      "source": [
        "#If 'pdays'=999, create a column 'pcontacted' with values 0 representing 'Not contacted', else 1 representing 'Contacted'\n",
        "bank['pcontacted'] = np.where(bank['pdays']==999, 0, 1)"
      ],
      "execution_count": null,
      "outputs": []
    },
    {
      "cell_type": "code",
      "metadata": {
        "id": "q9w1-wkuNnlN"
      },
      "source": [
        "#Sanity check of values in column 'poutcome' based on pcontacted = 0 (not contacted) \n",
        "bank1 = bank[bank['pcontacted']==0]\n",
        "bank1['poutcome'].unique()\n",
        "#'failure' outcome is available as values for customers who were not contacted."
      ],
      "execution_count": null,
      "outputs": []
    },
    {
      "cell_type": "code",
      "metadata": {
        "id": "PZXCz4ihMcmD"
      },
      "source": [
        "#Replace thebank data column values in 'poutcome' based on values of 'pcontacted'\n",
        "bank['poutcome'] = bank.loc[bank.pcontacted == 0, 'poutcome'] = \"nonexistent\""
      ],
      "execution_count": null,
      "outputs": []
    },
    {
      "cell_type": "code",
      "metadata": {
        "id": "3fd_Vh_eKg1g"
      },
      "source": [
        "#Remove columns that are'nt useful for modelling purpose:\n",
        "bank.drop(['contact', 'month', 'day_of_week', 'duration', 'campaign', 'pdays', 'previous', 'nr.employed', 'modelprediction'], axis=1, inplace=True)"
      ],
      "execution_count": null,
      "outputs": []
    },
    {
      "cell_type": "code",
      "metadata": {
        "id": "yVnO9zCyJfGC"
      },
      "source": [
        "#Remove any duplicates from the data\n",
        "bank.duplicated(subset=None, keep='first')"
      ],
      "execution_count": null,
      "outputs": []
    },
    {
      "cell_type": "code",
      "metadata": {
        "id": "wQJmZObQSA3N"
      },
      "source": [
        "#Check the shape of the data after removing duplicates - No duplicates were found\n",
        "bank.shape"
      ],
      "execution_count": null,
      "outputs": []
    },
    {
      "cell_type": "code",
      "metadata": {
        "id": "G9Ikwk4R1gTh"
      },
      "source": [
        "#A quick glace at the data to understand the data type & change if necessary\n",
        "bank.info()"
      ],
      "execution_count": null,
      "outputs": []
    },
    {
      "cell_type": "code",
      "metadata": {
        "id": "NZi6LXyUV_cW"
      },
      "source": [
        "#Change values to String for categorial variables\n",
        "bank['y'] = bank['y'].astype(str)\n",
        "bank['pcontacted'] = bank['pcontacted'].astype(str)\n",
        "\n",
        "#Assumption - The algorithm selected for modelling is not sensitive to categorical variables"
      ],
      "execution_count": null,
      "outputs": []
    },
    {
      "cell_type": "code",
      "metadata": {
        "id": "cGdurKD4Wtbq"
      },
      "source": [
        "#Check data type after conversion\n",
        "bank.info()"
      ],
      "execution_count": null,
      "outputs": []
    }
  ]
}